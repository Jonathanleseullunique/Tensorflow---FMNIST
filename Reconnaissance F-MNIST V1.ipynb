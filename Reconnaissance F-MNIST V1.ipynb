{
 "cells": [
  {
   "cell_type": "code",
   "execution_count": 1,
   "id": "3284f977",
   "metadata": {},
   "outputs": [],
   "source": [
    "import tensorflow as tf\n",
    "from tensorflow import keras\n",
    "from tensorflow.keras import layers\n",
    "import numpy as np\n",
    "import matplotlib.pyplot as plt\n",
    "import seaborn as sns"
   ]
  },
  {
   "cell_type": "code",
   "execution_count": 2,
   "id": "b16d981b",
   "metadata": {},
   "outputs": [],
   "source": [
    "fashion_mnist = tf.keras.datasets.fashion_mnist"
   ]
  },
  {
   "cell_type": "code",
   "execution_count": 3,
   "id": "9ff6ba1e",
   "metadata": {},
   "outputs": [],
   "source": [
    "(train_images, train_labels), (test_images, test_labels) = fashion_mnist.load_data()"
   ]
  },
  {
   "cell_type": "code",
   "execution_count": 5,
   "id": "59a355e2",
   "metadata": {},
   "outputs": [],
   "source": [
    "class_names = ['T-shirt/top', 'Trouser', 'Pullover', 'Dress', 'Coat',\n",
    "               'Sandal', 'Shirt', 'Sneaker', 'Bag', 'Ankle boot']\n",
    "\n"
   ]
  },
  {
   "cell_type": "code",
   "execution_count": 6,
   "id": "35116d0c",
   "metadata": {},
   "outputs": [],
   "source": [
    "Y=tf.keras.utils.to_categorical(train_labels)"
   ]
  },
  {
   "cell_type": "markdown",
   "id": "bf996911",
   "metadata": {},
   "source": [
    "# Model Create :\n",
    "\n"
   ]
  },
  {
   "cell_type": "code",
   "execution_count": 7,
   "id": "59bccb48",
   "metadata": {},
   "outputs": [],
   "source": [
    "model=tf.keras.Sequential([\n",
    "    tf.keras.layers.Flatten(input_shape=(28,28 )),\n",
    "    tf.keras.layers.Rescaling(scale=1./255, offset=0.0),\n",
    "    tf.keras.layers.Dense(64, activation='relu'),\n",
    "    tf.keras.layers.Dense(64, activation='relu'),\n",
    "    tf.keras.layers.Dense(10, activation=tf.keras.activations.softmax)\n",
    "])"
   ]
  },
  {
   "cell_type": "markdown",
   "id": "da9a0a2d",
   "metadata": {},
   "source": [
    "# Compile model "
   ]
  },
  {
   "cell_type": "code",
   "execution_count": 8,
   "id": "c3a957c1",
   "metadata": {},
   "outputs": [],
   "source": [
    "loss_fn = tf.keras.losses.CategoricalCrossentropy()"
   ]
  },
  {
   "cell_type": "code",
   "execution_count": 9,
   "id": "0023afd8",
   "metadata": {},
   "outputs": [],
   "source": [
    "optimizer = tf.keras.optimizers.Adam(learning_rate=0.001)"
   ]
  },
  {
   "cell_type": "code",
   "execution_count": 10,
   "id": "6662362d",
   "metadata": {},
   "outputs": [],
   "source": [
    "model.compile(optimizer=optimizer,\n",
    "              loss=loss_fn,metrics=[\"accuracy\",'MeanSquaredError',\"AUC\",keras.metrics.Precision(), keras.metrics.Recall()])"
   ]
  },
  {
   "cell_type": "code",
   "execution_count": 11,
   "id": "cdcef420",
   "metadata": {},
   "outputs": [
    {
     "name": "stdout",
     "output_type": "stream",
     "text": [
      "Epoch 1/30\n",
      "1875/1875 [==============================] - 4s 2ms/step - loss: 0.5114 - accuracy: 0.8200 - mean_squared_error: 0.0257 - auc: 0.9840 - precision: 0.8699 - recall: 0.7640\n",
      "Epoch 2/30\n",
      "1875/1875 [==============================] - 3s 2ms/step - loss: 0.3808 - accuracy: 0.8624 - mean_squared_error: 0.0196 - auc: 0.9903 - precision: 0.8916 - recall: 0.8347\n",
      "Epoch 3/30\n",
      "1875/1875 [==============================] - 3s 2ms/step - loss: 0.3443 - accuracy: 0.8749 - mean_squared_error: 0.0179 - auc: 0.9920 - precision: 0.9005 - recall: 0.8511\n",
      "Epoch 4/30\n",
      "1875/1875 [==============================] - 3s 2ms/step - loss: 0.3192 - accuracy: 0.8823 - mean_squared_error: 0.0168 - auc: 0.9931 - precision: 0.9050 - recall: 0.8611\n",
      "Epoch 5/30\n",
      "1875/1875 [==============================] - 3s 2ms/step - loss: 0.3036 - accuracy: 0.8879 - mean_squared_error: 0.0160 - auc: 0.9936 - precision: 0.9088 - recall: 0.8693: 1s - loss: 0.3017 - accuracy: 0.8890 - mean_squared_error: 0.0159 \n",
      "Epoch 6/30\n",
      "1875/1875 [==============================] - 3s 2ms/step - loss: 0.2890 - accuracy: 0.8927 - mean_squared_error: 0.0153 - auc: 0.9941 - precision: 0.9119 - recall: 0.8748\n",
      "Epoch 7/30\n",
      "1875/1875 [==============================] - 3s 2ms/step - loss: 0.2783 - accuracy: 0.8966 - mean_squared_error: 0.0148 - auc: 0.9946 - precision: 0.9157 - recall: 0.8796\n",
      "Epoch 8/30\n",
      "1875/1875 [==============================] - 3s 2ms/step - loss: 0.2671 - accuracy: 0.8997 - mean_squared_error: 0.0143 - auc: 0.9949 - precision: 0.9163 - recall: 0.8843\n",
      "Epoch 9/30\n",
      "1875/1875 [==============================] - 3s 2ms/step - loss: 0.2585 - accuracy: 0.9037 - mean_squared_error: 0.0139 - auc: 0.9953 - precision: 0.9196 - recall: 0.8894\n",
      "Epoch 10/30\n",
      "1875/1875 [==============================] - 4s 2ms/step - loss: 0.2489 - accuracy: 0.9058 - mean_squared_error: 0.0134 - auc: 0.9956 - precision: 0.9211 - recall: 0.8916\n",
      "Epoch 11/30\n",
      "1875/1875 [==============================] - 4s 2ms/step - loss: 0.2423 - accuracy: 0.9087 - mean_squared_error: 0.0131 - auc: 0.9958 - precision: 0.9227 - recall: 0.8956\n",
      "Epoch 12/30\n",
      "1875/1875 [==============================] - 4s 2ms/step - loss: 0.2345 - accuracy: 0.9110 - mean_squared_error: 0.0127 - auc: 0.9960 - precision: 0.9248 - recall: 0.8986\n",
      "Epoch 13/30\n",
      "1875/1875 [==============================] - 4s 2ms/step - loss: 0.2269 - accuracy: 0.9148 - mean_squared_error: 0.0123 - auc: 0.9962 - precision: 0.9275 - recall: 0.9028\n",
      "Epoch 14/30\n",
      "1875/1875 [==============================] - 4s 2ms/step - loss: 0.2217 - accuracy: 0.9150 - mean_squared_error: 0.0121 - auc: 0.9964 - precision: 0.9273 - recall: 0.9035\n",
      "Epoch 15/30\n",
      "1875/1875 [==============================] - 4s 2ms/step - loss: 0.2156 - accuracy: 0.9176 - mean_squared_error: 0.0118 - auc: 0.9967 - precision: 0.9289 - recall: 0.9071\n",
      "Epoch 16/30\n",
      "1875/1875 [==============================] - 4s 2ms/step - loss: 0.2116 - accuracy: 0.9199 - mean_squared_error: 0.0115 - auc: 0.9967 - precision: 0.9311 - recall: 0.9092\n",
      "Epoch 17/30\n",
      "1875/1875 [==============================] - 4s 2ms/step - loss: 0.2059 - accuracy: 0.9209 - mean_squared_error: 0.0113 - auc: 0.9969 - precision: 0.9320 - recall: 0.9107: 3s - loss: 0.1978 - accuracy: 0.9261 - mean_squared_error: 0.0108 - auc: 0.9\n",
      "Epoch 18/30\n",
      "1875/1875 [==============================] - 4s 2ms/step - loss: 0.2007 - accuracy: 0.9240 - mean_squared_error: 0.0110 - auc: 0.9971 - precision: 0.9345 - recall: 0.9139\n",
      "Epoch 19/30\n",
      "1875/1875 [==============================] - 4s 2ms/step - loss: 0.1963 - accuracy: 0.9245 - mean_squared_error: 0.0108 - auc: 0.9972 - precision: 0.9342 - recall: 0.9157\n",
      "Epoch 20/30\n",
      "1875/1875 [==============================] - 4s 2ms/step - loss: 0.1927 - accuracy: 0.9261 - mean_squared_error: 0.0106 - auc: 0.9972 - precision: 0.9360 - recall: 0.9175\n",
      "Epoch 21/30\n",
      "1875/1875 [==============================] - 4s 2ms/step - loss: 0.1888 - accuracy: 0.9274 - mean_squared_error: 0.0104 - auc: 0.9973 - precision: 0.9368 - recall: 0.9193\n",
      "Epoch 22/30\n",
      "1875/1875 [==============================] - 4s 2ms/step - loss: 0.1844 - accuracy: 0.9289 - mean_squared_error: 0.0102 - auc: 0.9975 - precision: 0.9387 - recall: 0.9206\n",
      "Epoch 23/30\n",
      "1875/1875 [==============================] - 4s 2ms/step - loss: 0.1810 - accuracy: 0.9309 - mean_squared_error: 0.0100 - auc: 0.9975 - precision: 0.9393 - recall: 0.9230\n",
      "Epoch 24/30\n",
      "1875/1875 [==============================] - 4s 2ms/step - loss: 0.1763 - accuracy: 0.9334 - mean_squared_error: 0.0097 - auc: 0.9975 - precision: 0.9418 - recall: 0.9259: 2s - loss: 0.1724 - accuracy: 0.\n",
      "Epoch 25/30\n",
      "1875/1875 [==============================] - 4s 2ms/step - loss: 0.1730 - accuracy: 0.9340 - mean_squared_error: 0.0096 - auc: 0.9976 - precision: 0.9425 - recall: 0.9268\n",
      "Epoch 26/30\n",
      "1875/1875 [==============================] - 4s 2ms/step - loss: 0.1709 - accuracy: 0.9350 - mean_squared_error: 0.0094 - auc: 0.9977 - precision: 0.9435 - recall: 0.9285\n",
      "Epoch 27/30\n",
      "1875/1875 [==============================] - 4s 2ms/step - loss: 0.1675 - accuracy: 0.9361 - mean_squared_error: 0.0093 - auc: 0.9977 - precision: 0.9440 - recall: 0.9290: 2s - loss: 0.1565 - ac - ETA: 0s - loss: 0.1675 - accuracy: 0.9362 - mean_squared_error: 0.0093 - auc: 0.9977 - precision: 0.9441 - recall: 0.92\n",
      "Epoch 28/30\n",
      "1875/1875 [==============================] - 4s 2ms/step - loss: 0.1632 - accuracy: 0.9377 - mean_squared_error: 0.0090 - auc: 0.9978 - precision: 0.9446 - recall: 0.9309: 0s - loss: 0.1633 - accuracy: 0.9380 - mean_squared_error: 0.0090 - auc: 0.9978 - precision: 0.9449 - re\n",
      "Epoch 29/30\n",
      "1875/1875 [==============================] - 4s 2ms/step - loss: 0.1598 - accuracy: 0.9377 - mean_squared_error: 0.0089 - auc: 0.9980 - precision: 0.9450 - recall: 0.9317\n",
      "Epoch 30/30\n",
      "1875/1875 [==============================] - 4s 2ms/step - loss: 0.1591 - accuracy: 0.9391 - mean_squared_error: 0.0088 - auc: 0.9980 - precision: 0.9457 - recall: 0.9327: 0s - loss: 0.1587 - accuracy: 0.9390 - mean_squared_error: 0.0088 - auc: 0.9980 - \n"
     ]
    }
   ],
   "source": [
    "displayfig=model.fit(train_images, Y, epochs=30,shuffle = True)"
   ]
  },
  {
   "cell_type": "code",
   "execution_count": 12,
   "id": "76aa31c7",
   "metadata": {},
   "outputs": [],
   "source": [
    "Ytest=tf.keras.utils.to_categorical(test_labels)"
   ]
  },
  {
   "cell_type": "markdown",
   "id": "d2cc1406",
   "metadata": {},
   "source": [
    "# Performance indicators"
   ]
  },
  {
   "cell_type": "code",
   "execution_count": 13,
   "id": "3554f79a",
   "metadata": {
    "scrolled": false
   },
   "outputs": [
    {
     "name": "stdout",
     "output_type": "stream",
     "text": [
      "\n",
      "Test accuracy: 0.8845999836921692\n",
      "\n",
      "Test mean: 0.017502527683973312\n",
      "\n",
      "Test AUC: 0.9857016801834106\n",
      "\n",
      "Test precision: 0.8943403959274292\n",
      "\n",
      "Test recall: 0.878600001335144\n"
     ]
    }
   ],
   "source": [
    "test_loss, test_acc, test_mean, test_auc, test_prec, test_recall = model.evaluate(test_images,  Ytest, verbose=6)\n",
    "\n",
    "print('\\nTest accuracy:', test_acc)\n",
    "print('\\nTest mean:', test_mean)\n",
    "print('\\nTest AUC:', test_auc)\n",
    "print('\\nTest precision:', test_prec)\n",
    "print('\\nTest recall:', test_recall)"
   ]
  },
  {
   "cell_type": "code",
   "execution_count": null,
   "id": "4baf1a48",
   "metadata": {},
   "outputs": [],
   "source": []
  },
  {
   "cell_type": "code",
   "execution_count": 14,
   "id": "580dbd40",
   "metadata": {},
   "outputs": [],
   "source": [
    "y_pred=np.argmax(model.predict(test_images), axis=-1)\n",
    "conf=tf.math.confusion_matrix(\n",
    "    test_labels, y_pred, num_classes=None, weights=None, dtype=tf.dtypes.int32,\n",
    "    name=None\n",
    ")"
   ]
  },
  {
   "cell_type": "code",
   "execution_count": 15,
   "id": "de3bc548",
   "metadata": {},
   "outputs": [
    {
     "data": {
      "image/png": "[encoded data removed]",
      "text/plain": [
       "<Figure size 576x576 with 2 Axes>"
      ]
     },
     "metadata": {
      "needs_background": "light"
     },
     "output_type": "display_data"
    }
   ],
   "source": [
    "figure = plt.figure(figsize=(8, 8))\n",
    "sns.heatmap(conf, annot=True,cmap=plt.cm.Blues)\n",
    "plt.tight_layout()\n",
    "plt.ylabel('True label')\n",
    "plt.xlabel('Predicted label')\n",
    "plt.show()"
   ]
  },
  {
   "cell_type": "code",
   "execution_count": 16,
   "id": "4dd68705",
   "metadata": {},
   "outputs": [
    {
     "data": {
      "image/png": "[encoded data removed]",
      "text/plain": [
       "<Figure size 432x288 with 1 Axes>"
      ]
     },
     "metadata": {
      "needs_background": "light"
     },
     "output_type": "display_data"
    }
   ],
   "source": [
    "plt.plot(displayfig.history['accuracy'])\n",
    "plt.title('Model accuracy')\n",
    "plt.ylabel('Accuracy')\n",
    "plt.xlabel('Epoch')\n",
    "plt.legend(['Train'], loc='upper left')\n",
    "plt.title('Model accuracy')\n",
    "\n",
    "plt.show()"
   ]
  },
  {
   "cell_type": "markdown",
   "id": "9515c51e",
   "metadata": {},
   "source": [
    "#  Model Predict"
   ]
  },
  {
   "cell_type": "code",
   "execution_count": 17,
   "id": "dbce53b1",
   "metadata": {},
   "outputs": [],
   "source": [
    "j=model.predict(test_images)"
   ]
  },
  {
   "cell_type": "code",
   "execution_count": null,
   "id": "f87288fc",
   "metadata": {},
   "outputs": [],
   "source": []
  },
  {
   "cell_type": "code",
   "execution_count": 22,
   "id": "be608c1b",
   "metadata": {},
   "outputs": [
    {
     "name": "stdout",
     "output_type": "stream",
     "text": [
      "label predit :  3\n",
      "label name predit :  Dress\n",
      "label :  3\n",
      "label name :  Dress\n"
     ]
    },
    {
     "data": {
      "image/png": "[encoded data removed]",
      "text/plain": [
       "<Figure size 432x288 with 2 Axes>"
      ]
     },
     "metadata": {
      "needs_background": "light"
     },
     "output_type": "display_data"
    }
   ],
   "source": [
    "i=2345\n",
    "\n",
    "print(\"label predit : \",np.argmax(j[i]))\n",
    "print(\"label name predit : \",class_names[np.argmax(j[i])])\n",
    "print(\"label : \",test_labels[i])\n",
    "print(\"label name : \",class_names[test_labels[i]])\n",
    "plt.figure()\n",
    "plt.imshow(test_images[i])\n",
    "plt.colorbar()\n",
    "plt.grid(False)\n",
    "plt.show()"
   ]
  },
  {
   "cell_type": "code",
   "execution_count": 20,
   "id": "6f948e54",
   "metadata": {},
   "outputs": [
    {
     "name": "stdout",
     "output_type": "stream",
     "text": [
      "label predit :  9\n",
      "label name predit :  Ankle boot\n",
      "label :  5\n",
      "label name :  Sandal\n"
     ]
    },
    {
     "data": {
      "image/png": "[encoded data removed]",
      "text/plain": [
       "<Figure size 432x288 with 2 Axes>"
      ]
     },
     "metadata": {
      "needs_background": "light"
     },
     "output_type": "display_data"
    }
   ],
   "source": [
    "i=9876\n",
    "\n",
    "print(\"label predit : \",np.argmax(j[i]))\n",
    "print(\"label name predit : \",class_names[np.argmax(j[i])])\n",
    "print(\"label : \",test_labels[i])\n",
    "print(\"label name : \",class_names[test_labels[i]])\n",
    "plt.figure()\n",
    "plt.imshow(test_images[i])\n",
    "plt.colorbar()\n",
    "plt.grid(False)\n",
    "plt.show()"
   ]
  },
  {
   "cell_type": "code",
   "execution_count": null,
   "id": "1b9da325",
   "metadata": {},
   "outputs": [],
   "source": [
    "Systeme à ameliorer V2 disponible"
   ]
  },
  {
   "cell_type": "code",
   "execution_count": 21,
   "id": "d830eaee",
   "metadata": {},
   "outputs": [
    {
     "name": "stdout",
     "output_type": "stream",
     "text": [
      "label predit :  4\n",
      "label name predit :  Coat\n",
      "label :  2\n",
      "label name :  Pullover\n"
     ]
    },
    {
     "data": {
      "image/png": "[encoded data removed]",
      "text/plain": [
       "<Figure size 432x288 with 2 Axes>"
      ]
     },
     "metadata": {
      "needs_background": "light"
     },
     "output_type": "display_data"
    }
   ],
   "source": [
    "i=4847\n",
    "\n",
    "print(\"label predit : \",np.argmax(j[i]))\n",
    "print(\"label name predit : \",class_names[np.argmax(j[i])])\n",
    "print(\"label : \",test_labels[i])\n",
    "print(\"label name : \",class_names[test_labels[i]])\n",
    "plt.figure()\n",
    "plt.imshow(test_images[i])\n",
    "plt.colorbar()\n",
    "plt.grid(False)\n",
    "plt.show()"
   ]
  }
 ],
 "metadata": {
  "kernelspec": {
   "display_name": "Python 3",
   "language": "python",
   "name": "python3"
  },
  "language_info": {
   "codemirror_mode": {
    "name": "ipython",
    "version": 3
   },
   "file_extension": ".py",
   "mimetype": "text/x-python",
   "name": "python",
   "nbconvert_exporter": "python",
   "pygments_lexer": "ipython3",
   "version": "3.8.8"
  }
 },
 "nbformat": 4,
 "nbformat_minor": 5
}
